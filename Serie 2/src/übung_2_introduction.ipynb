{
 "cells": [
  {
   "cell_type": "markdown",
   "metadata": {},
   "source": [
    "# Einführung in Python (Übung 2)\n",
    "\n",
    "_(Diese Übung ist nach einem Vorbild von Paul Kahlmeyer entstanden. Er hält ein praktisches Modul (genannt AGML Lab) begleitend zur Vorlesung Algorithmische Grundlagen des maschinellen Lernens. Eine sehr gute Vorlesung und Lab!)_\n",
    "\n",
    "<img src=\"../images/python-logo.png\" width=\"100\"/>\n",
    "\n",
    "Diese Übung soll in die Grundlagen von Python einführen. Die ersten 5 Aufgaben richten sich an alle, die noch nie mit Python gearbeitet haben. Die restlichen Aufgaben dienen der Vorbereitung auf die Veranstaltung.\n",
    "\n",
    "Bei weiterführendem Interesse empfiehlt sich die Veranstaltung \"Skriptsprachen und Anwendungen (ASQ)\" (FMI-BI0058) von Emanuel Barth.\n",
    "\n",
    "Sollten Probleme auftreten, diskutieren sie diese zunächst in Ihrer Kleingruppe oder tauschen Sie sich im Forum im Moodle zu dieser Übungsserie aus!\n",
    "\n",
    "Die Prinzipien von Python können mit folgenden Aphorismen beschrieben werden (hier eine Auswahl der [19 Prinzipien](https://en.wikipedia.org/wiki/Zen_of_Python)):\n",
    "\n",
    "- Beautiful is better than ugly.\n",
    "- Explicit is better than implicit.\n",
    "- Simple is better than complex.\n",
    "- Complex is better than complicated.\n",
    "- Readability counts.\n",
    "\n",
    "Ihre Faustregel sollte in etwa so lauten:\n",
    "- Ihr Code erklärt was sie tun;\n",
    "- Ihre Kommentare erklären weshalb sie es tun.\n",
    "\n",
    "Python ist eine Programmiersprache, die aufgrund der Vielfalt an Paketen (und einer großen Community, die diese pflegt) mächtig ist um Probleme zu lösen. Sie ist etwa im Bereich Data Science und Machine Learning beliebt (bspw. Frameworks wie [PyTorch](https://pytorch.org/) und [NumPy](https://numpy.org/))."
   ]
  },
  {
   "cell_type": "markdown",
   "metadata": {},
   "source": [
    "## Variablen und Typen\n",
    "\n",
    "In der Übung werden wir natürlich auf **numbers** und **strings** zurückgreifen. Diese Typen können in [**lists**](https://www.w3schools.com/python/python_lists.asp), [**dictionaries**](https://www.w3schools.com/python/python_dictionaries.asp) oder [**sets**](https://www.w3schools.com/python/python_sets.asp) zusammengefasst werden.\n",
    "\n",
    "Python ist eine dynamisch typisierte Sprache. Variablen wird bei der Wertzuweisung (bspw. `x = 5`) ein Typ zugewiesen (bspw. `x` ist eine Variable vom Typ `integer`).\n",
    "\n",
    "D.h. eine Variable kann je nachdem in welcher Zeile man sie sich anschaut unterschiedliche Typen besitzen"
   ]
  },
  {
   "cell_type": "code",
   "execution_count": null,
   "metadata": {},
   "outputs": [],
   "source": [
    "x = 5\n",
    "\n",
    "print(type(x), x)\n",
    "\n",
    "x = \"Hallo Welt!\"\n",
    "\n",
    "print(type(x), x)"
   ]
  },
  {
   "cell_type": "markdown",
   "metadata": {},
   "source": [
    "### Aufgabe 1\n",
    "\n",
    "Erstellen Sie folgende Variablen:\n",
    "- `x` hat den Wert 3\n",
    "- `y` hat den Wert $2^{100}$, nutzen Sie dabei $**$ zur Potenzierung.\n",
    "- `a` ist ein String mit dem Text \"some string\"\n",
    "- `l` ist eine Liste, die `x,y` und `a` enthält\n",
    "- `d` ist ein Dictionary mit dem Namen und Telefonnummern von drei imaginären Personen\n",
    "- `s` ist eine Menge der Zahlen von 0 bis 10"
   ]
  },
  {
   "cell_type": "code",
   "execution_count": 10,
   "metadata": {},
   "outputs": [
    {
     "name": "stdout",
     "output_type": "stream",
     "text": [
      "{0, 1, 2, 3, 4, 5, 6, 7, 8, 9, 10}\n"
     ]
    }
   ],
   "source": [
    "x = 3\n",
    "y = 2**100\n",
    "a = \"some string\"\n",
    "l = [x,y,a]\n",
    "d = {\n",
    "    \"mher\": \"110\",\n",
    "    \"justus\": \"112\",\n",
    "    \"johannes\": \"911\"\n",
    "}\n",
    "s = set([i for i in range(11)]+[0,1,1,2,3,4,6,5,4,6,7,9,8,9,10])\n",
    "print(s)"
   ]
  },
  {
   "cell_type": "markdown",
   "metadata": {},
   "source": [
    "## Branches und Loops\n",
    "\n",
    "Wie viele andere Programmiersprachen auch, hat Python [**for**](https://www.w3schools.com/python/python_for_loops.asp)- und [**while**](https://www.w3schools.com/python/python_while_loops.asp)- loops, sowie auch [**if-else**](https://www.w3schools.com/python/python_conditions.asp) Verzweigungen.\n",
    "\n",
    "### Aufgabe 2\n",
    "Baue einen Loop, der über das Dictionary `d` iteriert und gebe die Namen und Telefonnummern der Personen aus.\n"
   ]
  },
  {
   "cell_type": "code",
   "execution_count": 11,
   "metadata": {},
   "outputs": [
    {
     "name": "stdout",
     "output_type": "stream",
     "text": [
      "mher 110\n",
      "justus 112\n",
      "johannes 911\n"
     ]
    }
   ],
   "source": [
    "for iter in d:\n",
    "    print(iter, d[iter])"
   ]
  },
  {
   "cell_type": "markdown",
   "metadata": {},
   "source": [
    "### Aufgabe 3\n",
    "\n",
    "Verwenden Sie eine for-Schleife, um über die Menge s zu iterieren und nur die geraden Zahlen auszugeben."
   ]
  },
  {
   "cell_type": "code",
   "execution_count": 12,
   "metadata": {},
   "outputs": [
    {
     "name": "stdout",
     "output_type": "stream",
     "text": [
      "0 is even\n",
      "2 is even\n",
      "4 is even\n",
      "6 is even\n",
      "8 is even\n",
      "10 is even\n"
     ]
    }
   ],
   "source": [
    "for num in s:\n",
    "    if (num % 2 == 0):\n",
    "        print(num, \"is even\")"
   ]
  },
  {
   "cell_type": "markdown",
   "metadata": {},
   "source": [
    "### Aufgabe 4\n",
    "Berechnen Sie die ersten 10 Potenzen von 2: ($2^0,2^1,2^2,\\dots,2^9$) und speichern Sie sie in einer Liste\n",
    "\n",
    "- Verwenden Sie eine for-Schleife\n",
    "- Verwenden Sie eine while-Schleife\n",
    "\n",
    "Vergleichen Sie die Ergebnisse."
   ]
  },
  {
   "cell_type": "code",
   "execution_count": 15,
   "metadata": {},
   "outputs": [
    {
     "name": "stdout",
     "output_type": "stream",
     "text": [
      "[1, 2, 4, 8, 16, 32, 64, 128, 256, 512]\n",
      "[1, 2, 4, 8, 16, 32, 64, 128, 256, 512]\n"
     ]
    }
   ],
   "source": [
    "# TODO: print first 10 powers of 2 with for loop\n",
    "list1 = [2**i for i in range(10)]\n",
    "# TODO: print first 10 powers of 2 with while loop\n",
    "i = 0\n",
    "list2 = []\n",
    "while i < 10:\n",
    "    list2.append(2**i)\n",
    "    i += 1\n",
    "print(list1)\n",
    "print(list2)"
   ]
  },
  {
   "cell_type": "markdown",
   "metadata": {},
   "source": [
    "[Funktionen](https://www.w3schools.com/python/python_functions.asp) sind eine praktische Möglichkeit, Berechnungsschritte zu kapseln.\n",
    "\n",
    "## Aufgabe 5\n",
    "\n",
    "Erstellen Sie eine Funktion, die eine Liste der ersten $n$ [Fibonacci-Zahlen](https://en.wikipedia.org/wiki/Fibonacci_number) zurückgibt."
   ]
  },
  {
   "cell_type": "code",
   "execution_count": 26,
   "metadata": {},
   "outputs": [
    {
     "name": "stdout",
     "output_type": "stream",
     "text": [
      "[0, 1, 1, 2, 3, 5, 8, 13, 21, 34]\n"
     ]
    }
   ],
   "source": [
    "def fib(n: int) -> list:\n",
    "    '''\n",
    "    Calculates sequence of the first n fibonacci numbers.\n",
    "    \n",
    "    @Params:\n",
    "        n... last index in fibonacci sequence\n",
    "    \n",
    "    @Returns:\n",
    "        sequence of the first n fibonacci numbers.\n",
    "        Example: fib(10) will return [0, 1, 1, 2, 3, 5, 8, 13, 21, 34]\n",
    "    '''\n",
    "    fib_seq = [0, 1]\n",
    "    last = 0\n",
    "    current = 1\n",
    "    if n < 2:\n",
    "        return fib_seq[:n+1]\n",
    "    for i in range(2, n):\n",
    "        fib_seq.append(last + current)\n",
    "        temp = last\n",
    "        last = current\n",
    "        current = temp + current\n",
    "    return fib_seq\n",
    "\n",
    "print(fib(10))"
   ]
  },
  {
   "cell_type": "markdown",
   "metadata": {},
   "source": [
    "## OOP\n",
    "Python ist eine Sprache mit [objektorientierten Eigenschaften](https://www.w3schools.com/python/python_classes.asp). Wir werden diese Prinzipien in unseren Übungen verwenden.\n",
    "\n",
    "### Aufgabe 6\n",
    "Erstellen Sie eine Klasse \"Person\" mit einer `__init__`-Methode, die einen Namen `name` und eine Telefonnummer `phone` besitzt. Instanziieren Sie mithilfe eines `for`-Loops und des Dictionary `d` aus Aufgabe 1 und speichern Sie sie in eine Liste `people`.\n",
    "\n",
    "Schreiben Sie eine `__str__`-Methode, die die Eigenschaften `name` und `phone` zurückgibt."
   ]
  },
  {
   "cell_type": "code",
   "execution_count": null,
   "metadata": {},
   "outputs": [],
   "source": [
    "class Person:\n",
    "  def __init__(self, name, phone):\n",
    "    # TODO: store attributes\n",
    "    pass\n",
    "\n",
    "  def __str__(self) -> str:\n",
    "    # TODO: build string and return it\n",
    "    pass\n",
    "\n",
    "people = []\n",
    "\n",
    "# TODO: implement for loop for creating instances of Person and append the results to people\n",
    "\n",
    "print(people) "
   ]
  },
  {
   "cell_type": "markdown",
   "metadata": {},
   "source": [
    "### Aufgabe 7\n",
    "\n",
    "Schreiben Sie eine Klasse `Node` die einen Knoten für eine Datenstruktur (Directed Graph)[https://de.wikipedia.org/wiki/Baum_(Graphentheorie)] (auch gerichteter Graph genannt) implementiert.\n",
    "\n",
    "Der Knoten soll beliebig viele Kindzeiger besitzen können. Die Zeiger sind wie gesagt gerichtet. Hier bietet sich die Verwendung eines (Arrays bzw. einer List)[https://www.w3schools.com/python/python_lists.asp] an."
   ]
  },
  {
   "cell_type": "code",
   "execution_count": null,
   "metadata": {},
   "outputs": [],
   "source": [
    "class Node:\n",
    "    '''\n",
    "    Calculates sequence of the first n fibonacci numbers.\n",
    "    \n",
    "    @Params:\n",
    "        childen... a list of all children of this node\n",
    "        value... the integer value of this node\n",
    "    '''\n",
    "    def __init__(self, children: list, value: int):\n",
    "        # TODO: store attributes\n",
    "        pass\n",
    "\n",
    "    def __str__(self) -> str:\n",
    "        # TODO: return the node value\n",
    "        pass\n",
    "\n",
    "    def getValue(self) -> int:\n",
    "        # TODO: return the stored value\n",
    "        pass\n",
    "\n",
    "    def getChildren(self) -> list:\n",
    "        # TODO: return a tuple of direct children of this node\n",
    "        pass\n",
    "\n",
    "    def getSumOfAllDescendants(self) -> int:\n",
    "        # TODO: calculate the sum of all descendants node values recursively\n",
    "        pass"
   ]
  },
  {
   "cell_type": "markdown",
   "metadata": {},
   "source": [
    "### Aufgabe 8\n",
    "\n",
    "Erstellen Sie eine Repräsentation des im Bild gezeigten Baums. Es empfiehlt sich einen Knoten als Wurzel festzulegen (derjenige, der keine Eltern hat, also die 13).\n",
    "\n",
    "<img src=\"../images/tree.png\" style=\"width: 100%\" />"
   ]
  },
  {
   "cell_type": "code",
   "execution_count": null,
   "metadata": {},
   "outputs": [],
   "source": [
    "# TODO: represent tree"
   ]
  },
  {
   "cell_type": "markdown",
   "metadata": {},
   "source": [
    "### Aufgabe 9\n",
    "\n",
    "Programmieren Sie eine Funktion `print_tree`. Sie soll eine geeignete Repräsentation des Baumes erstellen. Die Baumstruktur soll ersichtlich werden. Sie dürfen annehmen, dass es sich um kreisfreie Bäume handelt.\n",
    "\n",
    "Bspw. so:\n",
    "```\n",
    "13\n",
    "├── 6\n",
    "│   ├── 6   \n",
    "│   └── 9\n",
    "├── 1\n",
    "└── 7\n",
    "```\n",
    "\n",
    "Es empfiehlt sich, die Ansicht so einfach wie möglich aufzubauen. Es reicht völlig aus die Elemente nur einzurücken (\"Pfeile\" sind nicht notwendig, aber cool)."
   ]
  },
  {
   "cell_type": "code",
   "execution_count": null,
   "metadata": {},
   "outputs": [],
   "source": [
    "def print_tree(root: Node) -> int:\n",
    "    '''\n",
    "    Prints the tree in a tidy representation tothe console.\n",
    "    \n",
    "    @Params:\n",
    "        root... The directed tree's root\n",
    "    \n",
    "    @Returns:\n",
    "        None\n",
    "    '''\n",
    "    # TODO: implement.\n",
    "    pass"
   ]
  },
  {
   "cell_type": "markdown",
   "metadata": {},
   "source": [
    "### Aufgabe 10\n",
    "Programmieren Sie eine Funktion `sum_tree`. Sie bildet die Summe der Werte über alle Knoten unseres gerichteten Graphen."
   ]
  },
  {
   "cell_type": "code",
   "execution_count": null,
   "metadata": {},
   "outputs": [],
   "source": [
    "def sum_tree(root: Node) -> int:\n",
    "    '''\n",
    "    Calculate the sum of all node values in the directed tree.\n",
    "    \n",
    "    @Params:\n",
    "        root... The directed tree's root\n",
    "    \n",
    "    @Returns:\n",
    "        The sum of all node values, e.g. 19\n",
    "    '''\n",
    "    # TODO: implement. \n",
    "    #  You may use the method getSumOfAllDescendants().\n",
    "    pass"
   ]
  }
 ],
 "metadata": {
  "kernelspec": {
   "display_name": "Python 3 (ipykernel)",
   "language": "python",
   "name": "python3"
  },
  "language_info": {
   "codemirror_mode": {
    "name": "ipython",
    "version": 3
   },
   "file_extension": ".py",
   "mimetype": "text/x-python",
   "name": "python",
   "nbconvert_exporter": "python",
   "pygments_lexer": "ipython3",
   "version": "3.10.12"
  }
 },
 "nbformat": 4,
 "nbformat_minor": 4
}
